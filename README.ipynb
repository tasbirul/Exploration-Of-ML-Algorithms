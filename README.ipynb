{
 "cells": [
  {
   "cell_type": "markdown",
   "metadata": {},
   "source": [
    "# Exploration-Of-ML-Algorithms\n",
    "An experiment of most useful Machine Learning algorithms (with behind the scenes).\n",
    "### `Purpose: Education`\n",
    "### `Focused On:` <img src='https://upload.wikimedia.org/wikipedia/commons/thumb/0/05/Scikit_learn_logo_small.svg/1200px-Scikit_learn_logo_small.svg.png' width='50px'> \n",
    "\n",
    "<i>\n",
    "  \n",
    "\t                              “I have no special talents. I am only passionately curious.”\n",
    "                                                                                            - Albert Einstein\n",
    "</i>\n",
    "<br>\n",
    "<hr>\n",
    "\n",
    "In this repository, I'd tried to explore & experiment the most common and important Machine Learning algorithms that are most popular in Data Science community (i.e SVM, Random Forest etc) with real-time examples. I'd also included how the algorithm works under the hood & experimented different algorithm for the same problem to figure out which algorithm is perfect for a specific type  of data.\n"
   ]
  },
  {
   "cell_type": "code",
   "execution_count": null,
   "metadata": {},
   "outputs": [],
   "source": []
  }
 ],
 "metadata": {
  "kernelspec": {
   "display_name": "Python 3",
   "language": "python",
   "name": "python3"
  },
  "language_info": {
   "codemirror_mode": {
    "name": "ipython",
    "version": 3
   },
   "file_extension": ".py",
   "mimetype": "text/x-python",
   "name": "python",
   "nbconvert_exporter": "python",
   "pygments_lexer": "ipython3",
   "version": "3.6.5"
  }
 },
 "nbformat": 4,
 "nbformat_minor": 2
}
